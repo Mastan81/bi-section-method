{
  "nbformat": 4,
  "nbformat_minor": 0,
  "metadata": {
    "colab": {
      "provenance": [],
      "authorship_tag": "ABX9TyMDjdsSy3KdP5de97ReOaR9",
      "include_colab_link": true
    },
    "kernelspec": {
      "name": "python3",
      "display_name": "Python 3"
    },
    "language_info": {
      "name": "python"
    }
  },
  "cells": [
    {
      "cell_type": "markdown",
      "metadata": {
        "id": "view-in-github",
        "colab_type": "text"
      },
      "source": [
        "<a href=\"https://colab.research.google.com/github/Mastan81/bi-section-method/blob/main/bi_section.ipynb\" target=\"_parent\"><img src=\"https://colab.research.google.com/assets/colab-badge.svg\" alt=\"Open In Colab\"/></a>"
      ]
    },
    {
      "cell_type": "code",
      "source": [
        "def bisection(func, a , b, error_accept):\n",
        "  def f(x):\n",
        "    f=eval(func)\n",
        "    return f \n",
        "\n",
        "  error  = abs (b-a)\n",
        "\n",
        "  while error > error_accept:\n",
        "    c = (b+a) / 2\n",
        "    if f(a) * f(b) >= 0:\n",
        "       print(\"no root\")\n",
        "       quit()\n",
        "\n",
        "    elif f(c) * f(a) < 0:\n",
        "      b = c\n",
        "      error = abs(b-a)\n",
        "\n",
        "    elif f(c) * f(b) < 0:\n",
        "      a = c\n",
        "      error = abs(b-a)\n",
        "\n",
        "    else:\n",
        "      print(\"something wrong\")\n",
        "      quit()\n",
        "\n",
        "\n",
        "  print(f\"the error is {error} \")\n",
        "\n",
        "bisection(\"(4*x**2)- 6\" , 1, 2, 0.05)"
      ],
      "metadata": {
        "colab": {
          "base_uri": "https://localhost:8080/"
        },
        "id": "BiCOSmvR8G46",
        "outputId": "7a1b03de-f8a5-4540-ed0c-f3fd7dfc6c24"
      },
      "execution_count": 3,
      "outputs": [
        {
          "output_type": "stream",
          "name": "stdout",
          "text": [
            "the error is 0.03125 \n"
          ]
        }
      ]
    }
  ]
}